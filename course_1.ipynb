{
 "cells": [
  {
   "cell_type": "code",
   "execution_count": 1,
   "metadata": {},
   "outputs": [],
   "source": [
    "import pandas as pd\n",
    "import numpy as np\n",
    "import matplotlib.pyplot as plt\n",
    "%matplotlib inline\n",
    "\n",
    "import utils\n",
    "utils.set_pretty_prints()"
   ]
  },
  {
   "cell_type": "code",
   "execution_count": 2,
   "metadata": {},
   "outputs": [
    {
     "name": "stdout",
     "output_type": "stream",
     "text": [
      "We have tensorflow version 2.1.0\n"
     ]
    }
   ],
   "source": [
    "import tensorflow as tf\n",
    "print(\"We have tensorflow version\", tf.__version__)"
   ]
  },
  {
   "cell_type": "code",
   "execution_count": 3,
   "metadata": {},
   "outputs": [],
   "source": [
    "from sklearn import datasets"
   ]
  },
  {
   "cell_type": "code",
   "execution_count": 4,
   "metadata": {},
   "outputs": [],
   "source": [
    "boston_data = datasets.load_boston()"
   ]
  },
  {
   "cell_type": "code",
   "execution_count": 5,
   "metadata": {},
   "outputs": [
    {
     "name": "stdout",
     "output_type": "stream",
     "text": [
      ".. _boston_dataset:\n",
      "\n",
      "Boston house prices dataset\n",
      "---------------------------\n",
      "\n",
      "**Data Set Characteristics:**  \n",
      "\n",
      "    :Number of Instances: 506 \n",
      "\n",
      "    :Number of Attributes: 13 numeric/categorical predictive. Median Value (attribute 14) is usually the target.\n",
      "\n",
      "    :Attribute Information (in order):\n",
      "        - CRIM     per capita crime rate by town\n",
      "        - ZN       proportion of residential land zoned for lots over 25,000 sq.ft.\n",
      "        - INDUS    proportion of non-retail business acres per town\n",
      "        - CHAS     Charles River dummy variable (= 1 if tract bounds river; 0 otherwise)\n",
      "        - NOX      nitric oxides concentration (parts per 10 million)\n",
      "        - RM       average number of rooms per dwelling\n",
      "        - AGE      proportion of owner-occupied units built prior to 1940\n",
      "        - DIS      weighted distances to five Boston employment centres\n",
      "        - RAD      index of accessibility to radial highways\n",
      "        - TAX      full-value property-tax rate per $10,000\n",
      "        - PTRATIO  pupil-teacher ratio by town\n",
      "        - B        1000(Bk - 0.63)^2 where Bk is the proportion of blacks by town\n",
      "        - LSTAT    % lower status of the population\n",
      "        - MEDV     Median value of owner-occupied homes in $1000's\n",
      "\n",
      "    :Missing Attribute Values: None\n",
      "\n",
      "    :Creator: Harrison, D. and Rubinfeld, D.L.\n",
      "\n",
      "This is a copy of UCI ML housing dataset.\n",
      "https://archive.ics.uci.edu/ml/machine-learning-databases/housing/\n",
      "\n",
      "\n",
      "This dataset was taken from the StatLib library which is maintained at Carnegie Mellon University.\n",
      "\n",
      "The Boston house-price data of Harrison, D. and Rubinfeld, D.L. 'Hedonic\n",
      "prices and the demand for clean air', J. Environ. Economics & Management,\n",
      "vol.5, 81-102, 1978.   Used in Belsley, Kuh & Welsch, 'Regression diagnostics\n",
      "...', Wiley, 1980.   N.B. Various transformations are used in the table on\n",
      "pages 244-261 of the latter.\n",
      "\n",
      "The Boston house-price data has been used in many machine learning papers that address regression\n",
      "problems.   \n",
      "     \n",
      ".. topic:: References\n",
      "\n",
      "   - Belsley, Kuh & Welsch, 'Regression diagnostics: Identifying Influential Data and Sources of Collinearity', Wiley, 1980. 244-261.\n",
      "   - Quinlan,R. (1993). Combining Instance-Based and Model-Based Learning. In Proceedings on the Tenth International Conference of Machine Learning, 236-243, University of Massachusetts, Amherst. Morgan Kaufmann.\n",
      "\n"
     ]
    }
   ],
   "source": [
    "print(boston_data.DESCR)"
   ]
  },
  {
   "cell_type": "code",
   "execution_count": 6,
   "metadata": {},
   "outputs": [
    {
     "data": {
      "text/plain": [
       "array([[  0.01,  18.  ,   2.31,   0.  ,   0.54,   6.58,  65.2 ,   4.09,\n",
       "          1.  , 296.  ,  15.3 , 396.9 ,   4.98],\n",
       "       [  0.03,   0.  ,   7.07,   0.  ,   0.47,   6.42,  78.9 ,   4.97,\n",
       "          2.  , 242.  ,  17.8 , 396.9 ,   9.14]])"
      ]
     },
     "execution_count": 6,
     "metadata": {},
     "output_type": "execute_result"
    }
   ],
   "source": [
    "boston_data.data[:2]"
   ]
  },
  {
   "cell_type": "code",
   "execution_count": 7,
   "metadata": {},
   "outputs": [
    {
     "data": {
      "text/plain": [
       "array(['CRIM', 'ZN', 'INDUS', 'CHAS', 'NOX', 'RM', 'AGE', 'DIS', 'RAD',\n",
       "       'TAX', 'PTRATIO', 'B', 'LSTAT'], dtype='<U7')"
      ]
     },
     "execution_count": 7,
     "metadata": {},
     "output_type": "execute_result"
    }
   ],
   "source": [
    "boston_data.feature_names"
   ]
  },
  {
   "cell_type": "code",
   "execution_count": 8,
   "metadata": {},
   "outputs": [],
   "source": [
    "df_boston = pd.DataFrame(boston_data.data, columns=boston_data.feature_names)"
   ]
  },
  {
   "cell_type": "code",
   "execution_count": 9,
   "metadata": {},
   "outputs": [
    {
     "data": {
      "text/html": [
       "<div>\n",
       "<style scoped>\n",
       "    .dataframe tbody tr th:only-of-type {\n",
       "        vertical-align: middle;\n",
       "    }\n",
       "\n",
       "    .dataframe tbody tr th {\n",
       "        vertical-align: top;\n",
       "    }\n",
       "\n",
       "    .dataframe thead th {\n",
       "        text-align: right;\n",
       "    }\n",
       "</style>\n",
       "<table border=\"1\" class=\"dataframe\">\n",
       "  <thead>\n",
       "    <tr style=\"text-align: right;\">\n",
       "      <th></th>\n",
       "      <th>CRIM</th>\n",
       "      <th>ZN</th>\n",
       "      <th>INDUS</th>\n",
       "      <th>CHAS</th>\n",
       "      <th>NOX</th>\n",
       "      <th>RM</th>\n",
       "      <th>AGE</th>\n",
       "      <th>DIS</th>\n",
       "      <th>RAD</th>\n",
       "      <th>TAX</th>\n",
       "      <th>PTRATIO</th>\n",
       "      <th>B</th>\n",
       "      <th>LSTAT</th>\n",
       "    </tr>\n",
       "  </thead>\n",
       "  <tbody>\n",
       "    <tr>\n",
       "      <th>0</th>\n",
       "      <td>0.0063</td>\n",
       "      <td>18.0</td>\n",
       "      <td>2.31</td>\n",
       "      <td>0.0</td>\n",
       "      <td>0.538</td>\n",
       "      <td>6.575</td>\n",
       "      <td>65.2</td>\n",
       "      <td>4.0900</td>\n",
       "      <td>1.0</td>\n",
       "      <td>296.0</td>\n",
       "      <td>15.3</td>\n",
       "      <td>396.90</td>\n",
       "      <td>4.98</td>\n",
       "    </tr>\n",
       "    <tr>\n",
       "      <th>1</th>\n",
       "      <td>0.0273</td>\n",
       "      <td>0.0</td>\n",
       "      <td>7.07</td>\n",
       "      <td>0.0</td>\n",
       "      <td>0.469</td>\n",
       "      <td>6.421</td>\n",
       "      <td>78.9</td>\n",
       "      <td>4.9671</td>\n",
       "      <td>2.0</td>\n",
       "      <td>242.0</td>\n",
       "      <td>17.8</td>\n",
       "      <td>396.90</td>\n",
       "      <td>9.14</td>\n",
       "    </tr>\n",
       "    <tr>\n",
       "      <th>2</th>\n",
       "      <td>0.0273</td>\n",
       "      <td>0.0</td>\n",
       "      <td>7.07</td>\n",
       "      <td>0.0</td>\n",
       "      <td>0.469</td>\n",
       "      <td>7.185</td>\n",
       "      <td>61.1</td>\n",
       "      <td>4.9671</td>\n",
       "      <td>2.0</td>\n",
       "      <td>242.0</td>\n",
       "      <td>17.8</td>\n",
       "      <td>392.83</td>\n",
       "      <td>4.03</td>\n",
       "    </tr>\n",
       "    <tr>\n",
       "      <th>3</th>\n",
       "      <td>0.0324</td>\n",
       "      <td>0.0</td>\n",
       "      <td>2.18</td>\n",
       "      <td>0.0</td>\n",
       "      <td>0.458</td>\n",
       "      <td>6.998</td>\n",
       "      <td>45.8</td>\n",
       "      <td>6.0622</td>\n",
       "      <td>3.0</td>\n",
       "      <td>222.0</td>\n",
       "      <td>18.7</td>\n",
       "      <td>394.63</td>\n",
       "      <td>2.94</td>\n",
       "    </tr>\n",
       "    <tr>\n",
       "      <th>4</th>\n",
       "      <td>0.0691</td>\n",
       "      <td>0.0</td>\n",
       "      <td>2.18</td>\n",
       "      <td>0.0</td>\n",
       "      <td>0.458</td>\n",
       "      <td>7.147</td>\n",
       "      <td>54.2</td>\n",
       "      <td>6.0622</td>\n",
       "      <td>3.0</td>\n",
       "      <td>222.0</td>\n",
       "      <td>18.7</td>\n",
       "      <td>396.90</td>\n",
       "      <td>5.33</td>\n",
       "    </tr>\n",
       "    <tr>\n",
       "      <th>5</th>\n",
       "      <td>0.0299</td>\n",
       "      <td>0.0</td>\n",
       "      <td>2.18</td>\n",
       "      <td>0.0</td>\n",
       "      <td>0.458</td>\n",
       "      <td>6.430</td>\n",
       "      <td>58.7</td>\n",
       "      <td>6.0622</td>\n",
       "      <td>3.0</td>\n",
       "      <td>222.0</td>\n",
       "      <td>18.7</td>\n",
       "      <td>394.12</td>\n",
       "      <td>5.21</td>\n",
       "    </tr>\n",
       "    <tr>\n",
       "      <th>6</th>\n",
       "      <td>0.0883</td>\n",
       "      <td>12.5</td>\n",
       "      <td>7.87</td>\n",
       "      <td>0.0</td>\n",
       "      <td>0.524</td>\n",
       "      <td>6.012</td>\n",
       "      <td>66.6</td>\n",
       "      <td>5.5605</td>\n",
       "      <td>5.0</td>\n",
       "      <td>311.0</td>\n",
       "      <td>15.2</td>\n",
       "      <td>395.60</td>\n",
       "      <td>12.43</td>\n",
       "    </tr>\n",
       "    <tr>\n",
       "      <th>7</th>\n",
       "      <td>0.1446</td>\n",
       "      <td>12.5</td>\n",
       "      <td>7.87</td>\n",
       "      <td>0.0</td>\n",
       "      <td>0.524</td>\n",
       "      <td>6.172</td>\n",
       "      <td>96.1</td>\n",
       "      <td>5.9505</td>\n",
       "      <td>5.0</td>\n",
       "      <td>311.0</td>\n",
       "      <td>15.2</td>\n",
       "      <td>396.90</td>\n",
       "      <td>19.15</td>\n",
       "    </tr>\n",
       "    <tr>\n",
       "      <th>8</th>\n",
       "      <td>0.2112</td>\n",
       "      <td>12.5</td>\n",
       "      <td>7.87</td>\n",
       "      <td>0.0</td>\n",
       "      <td>0.524</td>\n",
       "      <td>5.631</td>\n",
       "      <td>100.0</td>\n",
       "      <td>6.0821</td>\n",
       "      <td>5.0</td>\n",
       "      <td>311.0</td>\n",
       "      <td>15.2</td>\n",
       "      <td>386.63</td>\n",
       "      <td>29.93</td>\n",
       "    </tr>\n",
       "    <tr>\n",
       "      <th>9</th>\n",
       "      <td>0.1700</td>\n",
       "      <td>12.5</td>\n",
       "      <td>7.87</td>\n",
       "      <td>0.0</td>\n",
       "      <td>0.524</td>\n",
       "      <td>6.004</td>\n",
       "      <td>85.9</td>\n",
       "      <td>6.5921</td>\n",
       "      <td>5.0</td>\n",
       "      <td>311.0</td>\n",
       "      <td>15.2</td>\n",
       "      <td>386.71</td>\n",
       "      <td>17.10</td>\n",
       "    </tr>\n",
       "    <tr>\n",
       "      <th>10</th>\n",
       "      <td>0.2249</td>\n",
       "      <td>12.5</td>\n",
       "      <td>7.87</td>\n",
       "      <td>0.0</td>\n",
       "      <td>0.524</td>\n",
       "      <td>6.377</td>\n",
       "      <td>94.3</td>\n",
       "      <td>6.3467</td>\n",
       "      <td>5.0</td>\n",
       "      <td>311.0</td>\n",
       "      <td>15.2</td>\n",
       "      <td>392.52</td>\n",
       "      <td>20.45</td>\n",
       "    </tr>\n",
       "    <tr>\n",
       "      <th>11</th>\n",
       "      <td>0.1175</td>\n",
       "      <td>12.5</td>\n",
       "      <td>7.87</td>\n",
       "      <td>0.0</td>\n",
       "      <td>0.524</td>\n",
       "      <td>6.009</td>\n",
       "      <td>82.9</td>\n",
       "      <td>6.2267</td>\n",
       "      <td>5.0</td>\n",
       "      <td>311.0</td>\n",
       "      <td>15.2</td>\n",
       "      <td>396.90</td>\n",
       "      <td>13.27</td>\n",
       "    </tr>\n",
       "    <tr>\n",
       "      <th>12</th>\n",
       "      <td>0.0938</td>\n",
       "      <td>12.5</td>\n",
       "      <td>7.87</td>\n",
       "      <td>0.0</td>\n",
       "      <td>0.524</td>\n",
       "      <td>5.889</td>\n",
       "      <td>39.0</td>\n",
       "      <td>5.4509</td>\n",
       "      <td>5.0</td>\n",
       "      <td>311.0</td>\n",
       "      <td>15.2</td>\n",
       "      <td>390.50</td>\n",
       "      <td>15.71</td>\n",
       "    </tr>\n",
       "    <tr>\n",
       "      <th>13</th>\n",
       "      <td>0.6298</td>\n",
       "      <td>0.0</td>\n",
       "      <td>8.14</td>\n",
       "      <td>0.0</td>\n",
       "      <td>0.538</td>\n",
       "      <td>5.949</td>\n",
       "      <td>61.8</td>\n",
       "      <td>4.7075</td>\n",
       "      <td>4.0</td>\n",
       "      <td>307.0</td>\n",
       "      <td>21.0</td>\n",
       "      <td>396.90</td>\n",
       "      <td>8.26</td>\n",
       "    </tr>\n",
       "    <tr>\n",
       "      <th>14</th>\n",
       "      <td>0.6380</td>\n",
       "      <td>0.0</td>\n",
       "      <td>8.14</td>\n",
       "      <td>0.0</td>\n",
       "      <td>0.538</td>\n",
       "      <td>6.096</td>\n",
       "      <td>84.5</td>\n",
       "      <td>4.4619</td>\n",
       "      <td>4.0</td>\n",
       "      <td>307.0</td>\n",
       "      <td>21.0</td>\n",
       "      <td>380.02</td>\n",
       "      <td>10.26</td>\n",
       "    </tr>\n",
       "    <tr>\n",
       "      <th>15</th>\n",
       "      <td>0.6274</td>\n",
       "      <td>0.0</td>\n",
       "      <td>8.14</td>\n",
       "      <td>0.0</td>\n",
       "      <td>0.538</td>\n",
       "      <td>5.834</td>\n",
       "      <td>56.5</td>\n",
       "      <td>4.4986</td>\n",
       "      <td>4.0</td>\n",
       "      <td>307.0</td>\n",
       "      <td>21.0</td>\n",
       "      <td>395.62</td>\n",
       "      <td>8.47</td>\n",
       "    </tr>\n",
       "    <tr>\n",
       "      <th>16</th>\n",
       "      <td>1.0539</td>\n",
       "      <td>0.0</td>\n",
       "      <td>8.14</td>\n",
       "      <td>0.0</td>\n",
       "      <td>0.538</td>\n",
       "      <td>5.935</td>\n",
       "      <td>29.3</td>\n",
       "      <td>4.4986</td>\n",
       "      <td>4.0</td>\n",
       "      <td>307.0</td>\n",
       "      <td>21.0</td>\n",
       "      <td>386.85</td>\n",
       "      <td>6.58</td>\n",
       "    </tr>\n",
       "    <tr>\n",
       "      <th>17</th>\n",
       "      <td>0.7842</td>\n",
       "      <td>0.0</td>\n",
       "      <td>8.14</td>\n",
       "      <td>0.0</td>\n",
       "      <td>0.538</td>\n",
       "      <td>5.990</td>\n",
       "      <td>81.7</td>\n",
       "      <td>4.2579</td>\n",
       "      <td>4.0</td>\n",
       "      <td>307.0</td>\n",
       "      <td>21.0</td>\n",
       "      <td>386.75</td>\n",
       "      <td>14.67</td>\n",
       "    </tr>\n",
       "    <tr>\n",
       "      <th>18</th>\n",
       "      <td>0.8027</td>\n",
       "      <td>0.0</td>\n",
       "      <td>8.14</td>\n",
       "      <td>0.0</td>\n",
       "      <td>0.538</td>\n",
       "      <td>5.456</td>\n",
       "      <td>36.6</td>\n",
       "      <td>3.7965</td>\n",
       "      <td>4.0</td>\n",
       "      <td>307.0</td>\n",
       "      <td>21.0</td>\n",
       "      <td>288.99</td>\n",
       "      <td>11.69</td>\n",
       "    </tr>\n",
       "    <tr>\n",
       "      <th>19</th>\n",
       "      <td>0.7258</td>\n",
       "      <td>0.0</td>\n",
       "      <td>8.14</td>\n",
       "      <td>0.0</td>\n",
       "      <td>0.538</td>\n",
       "      <td>5.727</td>\n",
       "      <td>69.5</td>\n",
       "      <td>3.7965</td>\n",
       "      <td>4.0</td>\n",
       "      <td>307.0</td>\n",
       "      <td>21.0</td>\n",
       "      <td>390.95</td>\n",
       "      <td>11.28</td>\n",
       "    </tr>\n",
       "    <tr>\n",
       "      <th>20</th>\n",
       "      <td>1.2518</td>\n",
       "      <td>0.0</td>\n",
       "      <td>8.14</td>\n",
       "      <td>0.0</td>\n",
       "      <td>0.538</td>\n",
       "      <td>5.570</td>\n",
       "      <td>98.1</td>\n",
       "      <td>3.7979</td>\n",
       "      <td>4.0</td>\n",
       "      <td>307.0</td>\n",
       "      <td>21.0</td>\n",
       "      <td>376.57</td>\n",
       "      <td>21.02</td>\n",
       "    </tr>\n",
       "    <tr>\n",
       "      <th>21</th>\n",
       "      <td>0.8520</td>\n",
       "      <td>0.0</td>\n",
       "      <td>8.14</td>\n",
       "      <td>0.0</td>\n",
       "      <td>0.538</td>\n",
       "      <td>5.965</td>\n",
       "      <td>89.2</td>\n",
       "      <td>4.0123</td>\n",
       "      <td>4.0</td>\n",
       "      <td>307.0</td>\n",
       "      <td>21.0</td>\n",
       "      <td>392.53</td>\n",
       "      <td>13.83</td>\n",
       "    </tr>\n",
       "    <tr>\n",
       "      <th>22</th>\n",
       "      <td>1.2325</td>\n",
       "      <td>0.0</td>\n",
       "      <td>8.14</td>\n",
       "      <td>0.0</td>\n",
       "      <td>0.538</td>\n",
       "      <td>6.142</td>\n",
       "      <td>91.7</td>\n",
       "      <td>3.9769</td>\n",
       "      <td>4.0</td>\n",
       "      <td>307.0</td>\n",
       "      <td>21.0</td>\n",
       "      <td>396.90</td>\n",
       "      <td>18.72</td>\n",
       "    </tr>\n",
       "    <tr>\n",
       "      <th>23</th>\n",
       "      <td>0.9884</td>\n",
       "      <td>0.0</td>\n",
       "      <td>8.14</td>\n",
       "      <td>0.0</td>\n",
       "      <td>0.538</td>\n",
       "      <td>5.813</td>\n",
       "      <td>100.0</td>\n",
       "      <td>4.0952</td>\n",
       "      <td>4.0</td>\n",
       "      <td>307.0</td>\n",
       "      <td>21.0</td>\n",
       "      <td>394.54</td>\n",
       "      <td>19.88</td>\n",
       "    </tr>\n",
       "    <tr>\n",
       "      <th>24</th>\n",
       "      <td>0.7503</td>\n",
       "      <td>0.0</td>\n",
       "      <td>8.14</td>\n",
       "      <td>0.0</td>\n",
       "      <td>0.538</td>\n",
       "      <td>5.924</td>\n",
       "      <td>94.1</td>\n",
       "      <td>4.3996</td>\n",
       "      <td>4.0</td>\n",
       "      <td>307.0</td>\n",
       "      <td>21.0</td>\n",
       "      <td>394.33</td>\n",
       "      <td>16.30</td>\n",
       "    </tr>\n",
       "    <tr>\n",
       "      <th>25</th>\n",
       "      <td>0.8405</td>\n",
       "      <td>0.0</td>\n",
       "      <td>8.14</td>\n",
       "      <td>0.0</td>\n",
       "      <td>0.538</td>\n",
       "      <td>5.599</td>\n",
       "      <td>85.7</td>\n",
       "      <td>4.4546</td>\n",
       "      <td>4.0</td>\n",
       "      <td>307.0</td>\n",
       "      <td>21.0</td>\n",
       "      <td>303.42</td>\n",
       "      <td>16.51</td>\n",
       "    </tr>\n",
       "    <tr>\n",
       "      <th>26</th>\n",
       "      <td>0.6719</td>\n",
       "      <td>0.0</td>\n",
       "      <td>8.14</td>\n",
       "      <td>0.0</td>\n",
       "      <td>0.538</td>\n",
       "      <td>5.813</td>\n",
       "      <td>90.3</td>\n",
       "      <td>4.6820</td>\n",
       "      <td>4.0</td>\n",
       "      <td>307.0</td>\n",
       "      <td>21.0</td>\n",
       "      <td>376.88</td>\n",
       "      <td>14.81</td>\n",
       "    </tr>\n",
       "    <tr>\n",
       "      <th>27</th>\n",
       "      <td>0.9558</td>\n",
       "      <td>0.0</td>\n",
       "      <td>8.14</td>\n",
       "      <td>0.0</td>\n",
       "      <td>0.538</td>\n",
       "      <td>6.047</td>\n",
       "      <td>88.8</td>\n",
       "      <td>4.4534</td>\n",
       "      <td>4.0</td>\n",
       "      <td>307.0</td>\n",
       "      <td>21.0</td>\n",
       "      <td>306.38</td>\n",
       "      <td>17.28</td>\n",
       "    </tr>\n",
       "    <tr>\n",
       "      <th>28</th>\n",
       "      <td>0.7730</td>\n",
       "      <td>0.0</td>\n",
       "      <td>8.14</td>\n",
       "      <td>0.0</td>\n",
       "      <td>0.538</td>\n",
       "      <td>6.495</td>\n",
       "      <td>94.4</td>\n",
       "      <td>4.4547</td>\n",
       "      <td>4.0</td>\n",
       "      <td>307.0</td>\n",
       "      <td>21.0</td>\n",
       "      <td>387.94</td>\n",
       "      <td>12.80</td>\n",
       "    </tr>\n",
       "    <tr>\n",
       "      <th>29</th>\n",
       "      <td>1.0025</td>\n",
       "      <td>0.0</td>\n",
       "      <td>8.14</td>\n",
       "      <td>0.0</td>\n",
       "      <td>0.538</td>\n",
       "      <td>6.674</td>\n",
       "      <td>87.3</td>\n",
       "      <td>4.2390</td>\n",
       "      <td>4.0</td>\n",
       "      <td>307.0</td>\n",
       "      <td>21.0</td>\n",
       "      <td>380.23</td>\n",
       "      <td>11.98</td>\n",
       "    </tr>\n",
       "  </tbody>\n",
       "</table>\n",
       "</div>"
      ],
      "text/plain": [
       "      CRIM    ZN  INDUS  CHAS    NOX     RM    AGE     DIS  RAD    TAX  PTRATIO       B  LSTAT\n",
       "0   0.0063  18.0   2.31   0.0  0.538  6.575   65.2  4.0900  1.0  296.0     15.3  396.90   4.98\n",
       "1   0.0273   0.0   7.07   0.0  0.469  6.421   78.9  4.9671  2.0  242.0     17.8  396.90   9.14\n",
       "2   0.0273   0.0   7.07   0.0  0.469  7.185   61.1  4.9671  2.0  242.0     17.8  392.83   4.03\n",
       "3   0.0324   0.0   2.18   0.0  0.458  6.998   45.8  6.0622  3.0  222.0     18.7  394.63   2.94\n",
       "4   0.0691   0.0   2.18   0.0  0.458  7.147   54.2  6.0622  3.0  222.0     18.7  396.90   5.33\n",
       "5   0.0299   0.0   2.18   0.0  0.458  6.430   58.7  6.0622  3.0  222.0     18.7  394.12   5.21\n",
       "6   0.0883  12.5   7.87   0.0  0.524  6.012   66.6  5.5605  5.0  311.0     15.2  395.60  12.43\n",
       "7   0.1446  12.5   7.87   0.0  0.524  6.172   96.1  5.9505  5.0  311.0     15.2  396.90  19.15\n",
       "8   0.2112  12.5   7.87   0.0  0.524  5.631  100.0  6.0821  5.0  311.0     15.2  386.63  29.93\n",
       "9   0.1700  12.5   7.87   0.0  0.524  6.004   85.9  6.5921  5.0  311.0     15.2  386.71  17.10\n",
       "10  0.2249  12.5   7.87   0.0  0.524  6.377   94.3  6.3467  5.0  311.0     15.2  392.52  20.45\n",
       "11  0.1175  12.5   7.87   0.0  0.524  6.009   82.9  6.2267  5.0  311.0     15.2  396.90  13.27\n",
       "12  0.0938  12.5   7.87   0.0  0.524  5.889   39.0  5.4509  5.0  311.0     15.2  390.50  15.71\n",
       "13  0.6298   0.0   8.14   0.0  0.538  5.949   61.8  4.7075  4.0  307.0     21.0  396.90   8.26\n",
       "14  0.6380   0.0   8.14   0.0  0.538  6.096   84.5  4.4619  4.0  307.0     21.0  380.02  10.26\n",
       "15  0.6274   0.0   8.14   0.0  0.538  5.834   56.5  4.4986  4.0  307.0     21.0  395.62   8.47\n",
       "16  1.0539   0.0   8.14   0.0  0.538  5.935   29.3  4.4986  4.0  307.0     21.0  386.85   6.58\n",
       "17  0.7842   0.0   8.14   0.0  0.538  5.990   81.7  4.2579  4.0  307.0     21.0  386.75  14.67\n",
       "18  0.8027   0.0   8.14   0.0  0.538  5.456   36.6  3.7965  4.0  307.0     21.0  288.99  11.69\n",
       "19  0.7258   0.0   8.14   0.0  0.538  5.727   69.5  3.7965  4.0  307.0     21.0  390.95  11.28\n",
       "20  1.2518   0.0   8.14   0.0  0.538  5.570   98.1  3.7979  4.0  307.0     21.0  376.57  21.02\n",
       "21  0.8520   0.0   8.14   0.0  0.538  5.965   89.2  4.0123  4.0  307.0     21.0  392.53  13.83\n",
       "22  1.2325   0.0   8.14   0.0  0.538  6.142   91.7  3.9769  4.0  307.0     21.0  396.90  18.72\n",
       "23  0.9884   0.0   8.14   0.0  0.538  5.813  100.0  4.0952  4.0  307.0     21.0  394.54  19.88\n",
       "24  0.7503   0.0   8.14   0.0  0.538  5.924   94.1  4.3996  4.0  307.0     21.0  394.33  16.30\n",
       "25  0.8405   0.0   8.14   0.0  0.538  5.599   85.7  4.4546  4.0  307.0     21.0  303.42  16.51\n",
       "26  0.6719   0.0   8.14   0.0  0.538  5.813   90.3  4.6820  4.0  307.0     21.0  376.88  14.81\n",
       "27  0.9558   0.0   8.14   0.0  0.538  6.047   88.8  4.4534  4.0  307.0     21.0  306.38  17.28\n",
       "28  0.7730   0.0   8.14   0.0  0.538  6.495   94.4  4.4547  4.0  307.0     21.0  387.94  12.80\n",
       "29  1.0025   0.0   8.14   0.0  0.538  6.674   87.3  4.2390  4.0  307.0     21.0  380.23  11.98"
      ]
     },
     "execution_count": 9,
     "metadata": {},
     "output_type": "execute_result"
    }
   ],
   "source": [
    "df_boston.iloc[:30]"
   ]
  },
  {
   "cell_type": "code",
   "execution_count": 10,
   "metadata": {},
   "outputs": [
    {
     "data": {
      "text/plain": [
       "array([24. , 21.6, 34.7, 33.4, 36.2, 28.7, 22.9, 27.1, 16.5, 18.9])"
      ]
     },
     "execution_count": 10,
     "metadata": {},
     "output_type": "execute_result"
    }
   ],
   "source": [
    "boston_data.target[:10]"
   ]
  },
  {
   "cell_type": "code",
   "execution_count": 11,
   "metadata": {},
   "outputs": [],
   "source": [
    "df_boston['PRICE'] = boston_data.target"
   ]
  },
  {
   "cell_type": "code",
   "execution_count": 12,
   "metadata": {},
   "outputs": [
    {
     "data": {
      "text/html": [
       "<div>\n",
       "<style scoped>\n",
       "    .dataframe tbody tr th:only-of-type {\n",
       "        vertical-align: middle;\n",
       "    }\n",
       "\n",
       "    .dataframe tbody tr th {\n",
       "        vertical-align: top;\n",
       "    }\n",
       "\n",
       "    .dataframe thead th {\n",
       "        text-align: right;\n",
       "    }\n",
       "</style>\n",
       "<table border=\"1\" class=\"dataframe\">\n",
       "  <thead>\n",
       "    <tr style=\"text-align: right;\">\n",
       "      <th></th>\n",
       "      <th>CRIM</th>\n",
       "      <th>ZN</th>\n",
       "      <th>INDUS</th>\n",
       "      <th>CHAS</th>\n",
       "      <th>NOX</th>\n",
       "      <th>RM</th>\n",
       "      <th>AGE</th>\n",
       "      <th>DIS</th>\n",
       "      <th>RAD</th>\n",
       "      <th>TAX</th>\n",
       "      <th>PTRATIO</th>\n",
       "      <th>B</th>\n",
       "      <th>LSTAT</th>\n",
       "      <th>PRICE</th>\n",
       "    </tr>\n",
       "  </thead>\n",
       "  <tbody>\n",
       "    <tr>\n",
       "      <th>0</th>\n",
       "      <td>0.0063</td>\n",
       "      <td>18.0</td>\n",
       "      <td>2.31</td>\n",
       "      <td>0.0</td>\n",
       "      <td>0.538</td>\n",
       "      <td>6.575</td>\n",
       "      <td>65.2</td>\n",
       "      <td>4.0900</td>\n",
       "      <td>1.0</td>\n",
       "      <td>296.0</td>\n",
       "      <td>15.3</td>\n",
       "      <td>396.90</td>\n",
       "      <td>4.98</td>\n",
       "      <td>24.0</td>\n",
       "    </tr>\n",
       "    <tr>\n",
       "      <th>1</th>\n",
       "      <td>0.0273</td>\n",
       "      <td>0.0</td>\n",
       "      <td>7.07</td>\n",
       "      <td>0.0</td>\n",
       "      <td>0.469</td>\n",
       "      <td>6.421</td>\n",
       "      <td>78.9</td>\n",
       "      <td>4.9671</td>\n",
       "      <td>2.0</td>\n",
       "      <td>242.0</td>\n",
       "      <td>17.8</td>\n",
       "      <td>396.90</td>\n",
       "      <td>9.14</td>\n",
       "      <td>21.6</td>\n",
       "    </tr>\n",
       "    <tr>\n",
       "      <th>2</th>\n",
       "      <td>0.0273</td>\n",
       "      <td>0.0</td>\n",
       "      <td>7.07</td>\n",
       "      <td>0.0</td>\n",
       "      <td>0.469</td>\n",
       "      <td>7.185</td>\n",
       "      <td>61.1</td>\n",
       "      <td>4.9671</td>\n",
       "      <td>2.0</td>\n",
       "      <td>242.0</td>\n",
       "      <td>17.8</td>\n",
       "      <td>392.83</td>\n",
       "      <td>4.03</td>\n",
       "      <td>34.7</td>\n",
       "    </tr>\n",
       "    <tr>\n",
       "      <th>3</th>\n",
       "      <td>0.0324</td>\n",
       "      <td>0.0</td>\n",
       "      <td>2.18</td>\n",
       "      <td>0.0</td>\n",
       "      <td>0.458</td>\n",
       "      <td>6.998</td>\n",
       "      <td>45.8</td>\n",
       "      <td>6.0622</td>\n",
       "      <td>3.0</td>\n",
       "      <td>222.0</td>\n",
       "      <td>18.7</td>\n",
       "      <td>394.63</td>\n",
       "      <td>2.94</td>\n",
       "      <td>33.4</td>\n",
       "    </tr>\n",
       "    <tr>\n",
       "      <th>4</th>\n",
       "      <td>0.0691</td>\n",
       "      <td>0.0</td>\n",
       "      <td>2.18</td>\n",
       "      <td>0.0</td>\n",
       "      <td>0.458</td>\n",
       "      <td>7.147</td>\n",
       "      <td>54.2</td>\n",
       "      <td>6.0622</td>\n",
       "      <td>3.0</td>\n",
       "      <td>222.0</td>\n",
       "      <td>18.7</td>\n",
       "      <td>396.90</td>\n",
       "      <td>5.33</td>\n",
       "      <td>36.2</td>\n",
       "    </tr>\n",
       "  </tbody>\n",
       "</table>\n",
       "</div>"
      ],
      "text/plain": [
       "     CRIM    ZN  INDUS  CHAS    NOX     RM   AGE     DIS  RAD    TAX  PTRATIO       B  LSTAT  PRICE\n",
       "0  0.0063  18.0   2.31   0.0  0.538  6.575  65.2  4.0900  1.0  296.0     15.3  396.90   4.98   24.0\n",
       "1  0.0273   0.0   7.07   0.0  0.469  6.421  78.9  4.9671  2.0  242.0     17.8  396.90   9.14   21.6\n",
       "2  0.0273   0.0   7.07   0.0  0.469  7.185  61.1  4.9671  2.0  242.0     17.8  392.83   4.03   34.7\n",
       "3  0.0324   0.0   2.18   0.0  0.458  6.998  45.8  6.0622  3.0  222.0     18.7  394.63   2.94   33.4\n",
       "4  0.0691   0.0   2.18   0.0  0.458  7.147  54.2  6.0622  3.0  222.0     18.7  396.90   5.33   36.2"
      ]
     },
     "execution_count": 12,
     "metadata": {},
     "output_type": "execute_result"
    }
   ],
   "source": [
    "df_boston.head()"
   ]
  },
  {
   "cell_type": "code",
   "execution_count": 13,
   "metadata": {},
   "outputs": [
    {
     "data": {
      "text/plain": [
       "(506, 14)"
      ]
     },
     "execution_count": 13,
     "metadata": {},
     "output_type": "execute_result"
    }
   ],
   "source": [
    "df_boston.shape"
   ]
  },
  {
   "cell_type": "code",
   "execution_count": 14,
   "metadata": {
    "scrolled": false
   },
   "outputs": [
    {
     "data": {
      "image/png": "[encoded data removed]",
      "text/plain": [
       "<Figure size 432x288 with 1 Axes>"
      ]
     },
     "metadata": {},
     "output_type": "display_data"
    },
    {
     "data": {
      "image/png": "[encoded data removed]",
      "text/plain": [
       "<Figure size 432x288 with 1 Axes>"
      ]
     },
     "metadata": {},
     "output_type": "display_data"
    },
    {
     "data": {
      "image/png": "[encoded data removed]",
      "text/plain": [
       "<Figure size 432x288 with 1 Axes>"
      ]
     },
     "metadata": {},
     "output_type": "display_data"
    },
    {
     "data": {
      "image/png": "[encoded data removed]",
      "text/plain": [
       "<Figure size 432x288 with 1 Axes>"
      ]
     },
     "metadata": {},
     "output_type": "display_data"
    },
    {
     "data": {
      "image/png": "[encoded data removed]",
      "text/plain": [
       "<Figure size 432x288 with 1 Axes>"
      ]
     },
     "metadata": {},
     "output_type": "display_data"
    },
    {
     "data": {
      "image/png": "[encoded data removed]",
      "text/plain": [
       "<Figure size 432x288 with 1 Axes>"
      ]
     },
     "metadata": {},
     "output_type": "display_data"
    },
    {
     "data": {
      "image/png": "[encoded data removed]",
      "text/plain": [
       "<Figure size 432x288 with 1 Axes>"
      ]
     },
     "metadata": {},
     "output_type": "display_data"
    },
    {
     "data": {
      "image/png": "[encoded data removed]",
      "text/plain": [
       "<Figure size 432x288 with 1 Axes>"
      ]
     },
     "metadata": {},
     "output_type": "display_data"
    },
    {
     "data": {
      "image/png": "[encoded data removed]",
      "text/plain": [
       "<Figure size 432x288 with 1 Axes>"
      ]
     },
     "metadata": {},
     "output_type": "display_data"
    },
    {
     "data": {
      "image/png": "[encoded data removed]",
      "text/plain": [
       "<Figure size 432x288 with 1 Axes>"
      ]
     },
     "metadata": {},
     "output_type": "display_data"
    },
    {
     "data": {
      "image/png": "[encoded data removed]",
      "text/plain": [
       "<Figure size 432x288 with 1 Axes>"
      ]
     },
     "metadata": {},
     "output_type": "display_data"
    },
    {
     "data": {
      "image/png": "[encoded data removed]",
      "text/plain": [
       "<Figure size 432x288 with 1 Axes>"
      ]
     },
     "metadata": {},
     "output_type": "display_data"
    },
    {
     "data": {
      "image/png": "[encoded data removed]",
      "text/plain": [
       "<Figure size 432x288 with 1 Axes>"
      ]
     },
     "metadata": {},
     "output_type": "display_data"
    },
    {
     "data": {
      "image/png": "[encoded data removed]",
      "text/plain": [
       "<Figure size 432x288 with 1 Axes>"
      ]
     },
     "metadata": {},
     "output_type": "display_data"
    }
   ],
   "source": [
    "for col in df_boston.columns:\n",
    "    plt.figure()\n",
    "    ser = df_boston[col]\n",
    "    ser.hist()\n",
    "    plt.title(col)"
   ]
  },
  {
   "cell_type": "markdown",
   "metadata": {},
   "source": [
    "F(x1,x2,x3...) = a\\*x1 + b\\*x2 + c\\*x3 + .... + constant"
   ]
  },
  {
   "cell_type": "code",
   "execution_count": 15,
   "metadata": {},
   "outputs": [],
   "source": [
    "tf_input = tf.keras.layers.Input((13,))\n",
    "lin_func = tf.keras.layers.Dense(1)\n",
    "tf_out = lin_func(tf_input)\n",
    "model = tf.keras.models.Model(tf_input, tf_out)"
   ]
  },
  {
   "cell_type": "code",
   "execution_count": 16,
   "metadata": {},
   "outputs": [
    {
     "data": {
      "text/plain": [
       "[array([[ 0.5 ],\n",
       "        [-0.18],\n",
       "        [ 0.39],\n",
       "        [-0.64],\n",
       "        [ 0.17],\n",
       "        [-0.13],\n",
       "        [ 0.32],\n",
       "        [ 0.19],\n",
       "        [ 0.27],\n",
       "        [ 0.23],\n",
       "        [-0.42],\n",
       "        [ 0.57],\n",
       "        [ 0.05]], dtype=float32),\n",
       " array([0.], dtype=float32)]"
      ]
     },
     "execution_count": 16,
     "metadata": {},
     "output_type": "execute_result"
    }
   ],
   "source": [
    "lin_func.get_weights()"
   ]
  },
  {
   "cell_type": "code",
   "execution_count": 17,
   "metadata": {},
   "outputs": [
    {
     "name": "stdout",
     "output_type": "stream",
     "text": [
      "[  3.61  11.36  11.14   0.07   0.55   6.28  68.57   3.8    9.55 408.24\n",
      "  18.46 356.67  12.65]\n",
      "[  8.59  23.3    6.85   0.25   0.12   0.7   28.12   2.1    8.7  168.37\n",
      "   2.16  91.2    7.13]\n",
      "(496, 13)\n",
      "(10, 13)\n"
     ]
    }
   ],
   "source": [
    "_X = boston_data.data.astype(np.float32)\n",
    "_y = boston_data.target.astype(np.float32).reshape((-1,1))\n",
    "\n",
    "mean_X = _X.mean(axis=0)\n",
    "std_X = _X.std(axis=0)\n",
    "print(mean_X)\n",
    "print(std_X)\n",
    "\n",
    "_X = (_X - mean_X) / std_X\n",
    "\n",
    "\n",
    "test_size = 10\n",
    "test_idxs = np.random.choice(_X.shape[0], size=10, replace=False)\n",
    "train_idxs = list(set(np.arange(_X.shape[0])) - set(test_idxs))\n",
    "\n",
    "X_train = _X[train_idxs]\n",
    "X_test = _X[test_idxs]\n",
    "\n",
    "y_train = _y[train_idxs]\n",
    "y_test = _y[test_idxs]\n",
    "print(X_train.shape)\n",
    "print(X_test.shape)"
   ]
  },
  {
   "cell_type": "code",
   "execution_count": 18,
   "metadata": {},
   "outputs": [
    {
     "data": {
      "text/plain": [
       "(496, 1)"
      ]
     },
     "execution_count": 18,
     "metadata": {},
     "output_type": "execute_result"
    }
   ],
   "source": [
    "y_hat = model.predict(X_train)\n",
    "y_hat.shape"
   ]
  },
  {
   "cell_type": "code",
   "execution_count": 19,
   "metadata": {},
   "outputs": [
    {
     "data": {
      "text/plain": [
       "array([[-0.31],\n",
       "       [-0.23],\n",
       "       [-0.64],\n",
       "       [-1.14],\n",
       "       [-1.04],\n",
       "       [-0.87],\n",
       "       [ 0.5 ],\n",
       "       [ 0.91],\n",
       "       [ 1.08],\n",
       "       [ 0.8 ]], dtype=float32)"
      ]
     },
     "execution_count": 19,
     "metadata": {},
     "output_type": "execute_result"
    }
   ],
   "source": [
    "y_hat[:10]"
   ]
  },
  {
   "cell_type": "code",
   "execution_count": 20,
   "metadata": {},
   "outputs": [
    {
     "name": "stdout",
     "output_type": "stream",
     "text": [
      "Results so far :\n",
      "      PRED  TRUTH     AERR\n",
      "0  -0.3096   24.0  24.3096\n",
      "1  -0.2255   21.6  21.8255\n",
      "2  -0.6353   34.7  35.3353\n",
      "3  -1.1394   33.4  34.5394\n",
      "4  -1.0378   36.2  37.2378\n",
      "5  -0.8717   28.7  29.5717\n",
      "6   0.5026   22.9  22.3974\n",
      "7   0.9052   27.1  26.1948\n",
      "8   1.0818   16.5  15.4182\n",
      "9   0.8014   18.9  18.0986\n",
      "10  0.8686   15.0  14.1314\n",
      "11  0.7656   18.9  18.1344\n",
      "12  0.1925   21.7  21.5075\n",
      "13 -0.6253   20.4  21.0253\n",
      "14 -0.5053   18.2  18.7053\n",
      "15 -0.6897   19.9  20.5897\n",
      "16 -1.0631   23.1  24.1631\n",
      "17 -0.4535   17.5  17.9535\n",
      "18 -1.5378   20.2  21.7378\n",
      "19 -0.5870   18.2  18.7870\n",
      "Overall abs average error: 22.59\n"
     ]
    }
   ],
   "source": [
    "def show_results(pred, gold, label=''):\n",
    "    pred = pred.ravel()\n",
    "    gold = gold.ravel()\n",
    "    df_snapshot = pd.DataFrame({'PRED' : pred, 'TRUTH' : gold, 'AERR' : np.abs(gold-pred)})\n",
    "    print(\"Results so far {}:\\n{}\".format(label, df_snapshot.iloc[:20]))\n",
    "    print(\"Overall abs average error: {:.2f}\".format(df_snapshot['AERR'].mean()))\n",
    "    return df_snapshot\n",
    "\n",
    "res = show_results(y_hat, y_train)"
   ]
  },
  {
   "cell_type": "code",
   "execution_count": 21,
   "metadata": {},
   "outputs": [],
   "source": [
    "batch_size = 10\n",
    "ds = tf.data.Dataset.from_tensor_slices((X_train,y_train))"
   ]
  },
  {
   "cell_type": "code",
   "execution_count": 22,
   "metadata": {},
   "outputs": [],
   "source": [
    "ds = ds.batch(batch_size)"
   ]
  },
  {
   "cell_type": "code",
   "execution_count": 23,
   "metadata": {},
   "outputs": [
    {
     "name": "stdout",
     "output_type": "stream",
     "text": [
      "(<tf.Tensor: shape=(10, 13), dtype=float32, numpy=\n",
      "array([[-0.42,  0.28, -1.29, -0.27, -0.14,  0.41, -0.12,  0.14, -0.98,\n",
      "        -0.67, -1.46,  0.44, -1.08],\n",
      "       [-0.42, -0.49, -0.59, -0.27, -0.74,  0.19,  0.37,  0.56, -0.87,\n",
      "        -0.99, -0.3 ,  0.44, -0.49],\n",
      "       [-0.42, -0.49, -0.59, -0.27, -0.74,  1.28, -0.27,  0.56, -0.87,\n",
      "        -0.99, -0.3 ,  0.4 , -1.21],\n",
      "       [-0.42, -0.49, -1.31, -0.27, -0.84,  1.02, -0.81,  1.08, -0.75,\n",
      "        -1.11,  0.11,  0.42, -1.36],\n",
      "       [-0.41, -0.49, -1.31, -0.27, -0.84,  1.23, -0.51,  1.08, -0.75,\n",
      "        -1.11,  0.11,  0.44, -1.03],\n",
      "       [-0.42, -0.49, -1.31, -0.27, -0.84,  0.21, -0.35,  1.08, -0.75,\n",
      "        -1.11,  0.11,  0.41, -1.04],\n",
      "       [-0.41,  0.05, -0.48, -0.27, -0.27, -0.39, -0.07,  0.84, -0.52,\n",
      "        -0.58, -1.51,  0.43, -0.03],\n",
      "       [-0.4 ,  0.05, -0.48, -0.27, -0.27, -0.16,  0.98,  1.02, -0.52,\n",
      "        -0.58, -1.51,  0.44,  0.91],\n",
      "       [-0.4 ,  0.05, -0.48, -0.27, -0.27, -0.93,  1.12,  1.09, -0.52,\n",
      "        -0.58, -1.51,  0.33,  2.42],\n",
      "       [-0.4 ,  0.05, -0.48, -0.27, -0.27, -0.4 ,  0.62,  1.33, -0.52,\n",
      "        -0.58, -1.51,  0.33,  0.62]], dtype=float32)>, <tf.Tensor: shape=(10, 1), dtype=float32, numpy=\n",
      "array([[24. ],\n",
      "       [21.6],\n",
      "       [34.7],\n",
      "       [33.4],\n",
      "       [36.2],\n",
      "       [28.7],\n",
      "       [22.9],\n",
      "       [27.1],\n",
      "       [16.5],\n",
      "       [18.9]], dtype=float32)>)\n",
      "(<tf.Tensor: shape=(10, 13), dtype=float32, numpy=\n",
      "array([[-0.39,  0.05, -0.48, -0.27, -0.27,  0.13,  0.91,  1.21, -0.52,\n",
      "        -0.58, -1.51,  0.39,  1.09],\n",
      "       [-0.41,  0.05, -0.48, -0.27, -0.27, -0.39,  0.51,  1.16, -0.52,\n",
      "        -0.58, -1.51,  0.44,  0.09],\n",
      "       [-0.41,  0.05, -0.48, -0.27, -0.27, -0.56, -1.05,  0.79, -0.52,\n",
      "        -0.58, -1.51,  0.37,  0.43],\n",
      "       [-0.35, -0.49, -0.44, -0.27, -0.14, -0.48, -0.24,  0.43, -0.64,\n",
      "        -0.6 ,  1.18,  0.44, -0.62],\n",
      "       [-0.35, -0.49, -0.44, -0.27, -0.14, -0.27,  0.57,  0.32, -0.64,\n",
      "        -0.6 ,  1.18,  0.26, -0.34],\n",
      "       [-0.35, -0.49, -0.44, -0.27, -0.14, -0.64, -0.43,  0.33, -0.64,\n",
      "        -0.6 ,  1.18,  0.43, -0.59],\n",
      "       [-0.3 , -0.49, -0.44, -0.27, -0.14, -0.5 , -1.4 ,  0.33, -0.64,\n",
      "        -0.6 ,  1.18,  0.33, -0.85],\n",
      "       [-0.33, -0.49, -0.44, -0.27, -0.14, -0.42,  0.47,  0.22, -0.64,\n",
      "        -0.6 ,  1.18,  0.33,  0.28],\n",
      "       [-0.33, -0.49, -0.44, -0.27, -0.14, -1.18, -1.14,  0.  , -0.64,\n",
      "        -0.6 ,  1.18, -0.74, -0.13],\n",
      "       [-0.34, -0.49, -0.44, -0.27, -0.14, -0.79,  0.03,  0.  , -0.64,\n",
      "        -0.6 ,  1.18,  0.38, -0.19]], dtype=float32)>, <tf.Tensor: shape=(10, 1), dtype=float32, numpy=\n",
      "array([[15. ],\n",
      "       [18.9],\n",
      "       [21.7],\n",
      "       [20.4],\n",
      "       [18.2],\n",
      "       [19.9],\n",
      "       [23.1],\n",
      "       [17.5],\n",
      "       [20.2],\n",
      "       [18.2]], dtype=float32)>)\n"
     ]
    }
   ],
   "source": [
    "for i, batch_data in enumerate(ds):\n",
    "    print(batch_data)\n",
    "    if i>=1:\n",
    "\n",
    "        break"
   ]
  },
  {
   "cell_type": "code",
   "execution_count": 24,
   "metadata": {
    "scrolled": false
   },
   "outputs": [
    {
     "name": "stdout",
     "output_type": "stream",
     "text": [
      "Results so far RANDOM MODEL ON TRAIN:\n",
      "      PRED  TRUTH     AERR\n",
      "0  -0.4751   24.0  24.4751\n",
      "1  -0.3199   21.6  21.9199\n",
      "2  -0.9477   34.7  35.6477\n",
      "3  -1.0622   33.4  34.4622\n",
      "4  -0.7817   36.2  36.9817\n",
      "5  -0.6943   28.7  29.3943\n",
      "6  -0.4077   22.9  23.3077\n",
      "7   0.4373   27.1  26.6627\n",
      "8   1.3870   16.5  15.1130\n",
      "9   0.1136   18.9  18.7864\n",
      "10  0.4782   15.0  14.5218\n",
      "11 -0.2354   18.9  19.1354\n",
      "12 -0.4728   21.7  22.1728\n",
      "13 -0.7450   20.4  21.1450\n",
      "14 -0.1353   18.2  18.3353\n",
      "15 -0.7558   19.9  20.6558\n",
      "16 -1.1918   23.1  24.2918\n",
      "17  0.1643   17.5  17.3357\n",
      "18  0.0683   20.2  20.1317\n",
      "19 -0.2129   18.2  18.4129\n",
      "Overall abs average error: 22.61\n",
      "Results so far RANDOM MODEL ON TEST:\n",
      "     PRED  TRUTH     AERR\n",
      "0 -1.0681   46.7  47.7681\n",
      "1  4.0074   10.4   6.3926\n",
      "2  2.0116   15.6  13.5884\n",
      "3  0.7368   15.2  14.4632\n",
      "4  3.2936    5.0   1.7064\n",
      "5  3.5869   11.8   8.2131\n",
      "6  0.9435   23.1  22.1565\n",
      "7  0.3974   21.5  21.1026\n",
      "8  0.2237   24.3  24.0763\n",
      "9 -0.8830   25.0  25.8830\n",
      "Overall abs average error: 18.54\n",
      "Epoch 1 done 96.1% - avg loss: 22.663\n",
      "Epoch 2 done 96.1% - avg loss: 22.007\n",
      "Epoch 3 done 96.1% - avg loss: 21.500\n",
      "Epoch 4 done 96.1% - avg loss: 20.996\n",
      "Epoch 5 done 96.1% - avg loss: 20.494\n",
      "Epoch 6 done 96.1% - avg loss: 19.992\n",
      "Epoch 7 done 96.1% - avg loss: 19.490\n",
      "Epoch 8 done 96.1% - avg loss: 18.988\n",
      "Epoch 9 done 96.1% - avg loss: 18.487\n",
      "Epoch 10 done 96.1% - avg loss: 17.985\n",
      "Epoch 11 done 96.1% - avg loss: 17.484\n",
      "Epoch 12 done 96.1% - avg loss: 16.983\n",
      "Epoch 13 done 96.1% - avg loss: 16.481\n",
      "Epoch 14 done 96.1% - avg loss: 15.980\n",
      "Epoch 15 done 96.1% - avg loss: 15.479\n",
      "Epoch 16 done 96.1% - avg loss: 14.983\n",
      "Epoch 17 done 96.1% - avg loss: 14.491\n",
      "Epoch 18 done 96.1% - avg loss: 14.000\n",
      "Epoch 19 done 96.1% - avg loss: 13.510\n",
      "Epoch 20 done 96.1% - avg loss: 13.023\n",
      "Results so far at epoch 20 on TRAIN:\n",
      "       PRED  TRUTH     AERR\n",
      "0   11.7190   24.0  12.2810\n",
      "1   11.7464   21.6   9.8536\n",
      "2   11.5820   34.7  23.1180\n",
      "3   11.9147   33.4  21.4853\n",
      "4   12.0506   36.2  24.1494\n",
      "5   12.0095   28.7  16.6905\n",
      "6   10.9355   22.9  11.9645\n",
      "7   11.3247   27.1  15.7753\n",
      "8   11.4864   16.5   5.0136\n",
      "9   11.1419   18.9   7.7581\n",
      "10  11.3326   15.0   3.6674\n",
      "11  11.0619   18.9   7.8381\n",
      "12  10.7299   21.7  10.9701\n",
      "13  10.8960   20.4   9.5040\n",
      "14  11.1892   18.2   7.0108\n",
      "15  10.8497   19.9   9.0503\n",
      "16  10.5668   23.1  12.5332\n",
      "17  11.2310   17.5   6.2690\n",
      "18  10.7933   20.2   9.4067\n",
      "19  11.0512   18.2   7.1488\n",
      "Overall abs average error: 12.65\n",
      "Results so far at epoch 20 on TEST:\n",
      "      PRED  TRUTH     AERR\n",
      "0  10.8668   46.7  35.8332\n",
      "1   7.5925   10.4   2.8075\n",
      "2   7.8147   15.6   7.7853\n",
      "3   7.9793   15.2   7.2207\n",
      "4   7.1796    5.0   2.1796\n",
      "5   8.0691   11.8   3.7309\n",
      "6  11.9284   23.1  11.1716\n",
      "7   9.5796   21.5  11.9204\n",
      "8  11.2573   24.3  13.0427\n",
      "9  10.7829   25.0  14.2171\n",
      "Overall abs average error: 10.99\n",
      "Epoch 21 done 96.1% - avg loss: 12.538\n",
      "Epoch 22 done 96.1% - avg loss: 12.050\n",
      "Epoch 23 done 96.1% - avg loss: 11.570\n",
      "Epoch 24 done 96.1% - avg loss: 11.091\n",
      "Epoch 25 done 96.1% - avg loss: 10.615\n",
      "Epoch 26 done 96.1% - avg loss: 10.144\n",
      "Epoch 27 done 96.1% - avg loss: 9.6798\n",
      "Epoch 28 done 96.1% - avg loss: 9.2166\n",
      "Epoch 29 done 96.1% - avg loss: 8.7652\n",
      "Epoch 30 done 96.1% - avg loss: 8.320\n",
      "Epoch 31 done 96.1% - avg loss: 7.883\n",
      "Epoch 32 done 96.1% - avg loss: 7.470\n",
      "Epoch 33 done 96.1% - avg loss: 7.057\n",
      "Epoch 34 done 96.1% - avg loss: 6.652\n",
      "Epoch 35 done 96.1% - avg loss: 6.266\n",
      "Epoch 36 done 96.1% - avg loss: 5.901\n",
      "Epoch 37 done 96.1% - avg loss: 5.558\n",
      "Epoch 38 done 96.1% - avg loss: 5.242\n",
      "Epoch 39 done 96.1% - avg loss: 4.936\n",
      "Epoch 40 done 96.1% - avg loss: 4.674\n",
      "Results so far at epoch 40 on TRAIN:\n",
      "       PRED  TRUTH     AERR\n",
      "0   24.5177   24.0   0.5177\n",
      "1   22.0078   21.6   0.4078\n",
      "2   24.8091   34.7   9.8909\n",
      "3   25.0150   33.4   8.3850\n",
      "4   24.7155   36.2  11.4845\n",
      "5   23.2447   28.7   5.4553\n",
      "6   20.6647   22.9   2.2353\n",
      "7   19.1487   27.1   7.9513\n",
      "8   15.6443   16.5   0.8557\n",
      "9   19.2036   18.9   0.3036\n",
      "10  19.2057   15.0   4.2057\n",
      "11  20.1826   18.9   1.2826\n",
      "12  20.0290   21.7   1.6710\n",
      "13  19.6003   20.4   0.7997\n",
      "14  19.1640   18.2   0.9640\n",
      "15  19.4158   19.9   0.4842\n",
      "16  20.2528   23.1   2.8472\n",
      "17  18.1004   17.5   0.6004\n",
      "18  17.7720   20.2   2.4280\n",
      "19  18.5420   18.2   0.3420\n",
      "Overall abs average error: 4.48\n",
      "Results so far at epoch 40 on TEST:\n",
      "      PRED  TRUTH     AERR\n",
      "0  26.0244   46.7  20.6756\n",
      "1   7.0933   10.4   3.3067\n",
      "2  16.4699   15.6   0.8699\n",
      "3  14.2148   15.2   0.9852\n",
      "4   6.6979    5.0   1.6979\n",
      "5  10.4760   11.8   1.3240\n",
      "6  19.6243   23.1   3.4757\n",
      "7  18.8649   21.5   2.6351\n",
      "8  20.3131   24.3   3.9869\n",
      "9  21.0105   25.0   3.9895\n",
      "Overall abs average error: 4.29\n",
      "Epoch 41 done 96.1% - avg loss: 4.439\n",
      "Epoch 42 done 96.1% - avg loss: 4.255\n",
      "Epoch 43 done 96.1% - avg loss: 4.086\n",
      "Epoch 44 done 96.1% - avg loss: 3.939\n",
      "Epoch 45 done 96.1% - avg loss: 3.803\n",
      "Epoch 46 done 96.1% - avg loss: 3.694\n",
      "Epoch 47 done 96.1% - avg loss: 3.597\n",
      "Epoch 48 done 96.1% - avg loss: 3.516\n",
      "Epoch 49 done 96.1% - avg loss: 3.452\n",
      "Epoch 50 done 96.1% - avg loss: 3.400\n",
      "Epoch 51 done 96.1% - avg loss: 3.358\n",
      "Epoch 52 done 96.1% - avg loss: 3.323\n",
      "Epoch 53 done 96.1% - avg loss: 3.291\n",
      "Epoch 54 done 96.1% - avg loss: 3.267\n",
      "Epoch 55 done 96.1% - avg loss: 3.246\n",
      "Epoch 56 done 96.1% - avg loss: 3.228\n",
      "Epoch 57 done 96.1% - avg loss: 3.214\n",
      "Epoch 58 done 96.1% - avg loss: 3.204\n",
      "Epoch 59 done 96.1% - avg loss: 3.195\n",
      "Epoch 60 done 96.1% - avg loss: 3.187\n",
      "Results so far at epoch 60 on TRAIN:\n",
      "       PRED  TRUTH    AERR\n",
      "0   28.4999   24.0  4.4999\n",
      "1   23.6627   21.6  2.0627\n",
      "2   29.2851   34.7  5.4149\n",
      "3   28.1197   33.4  5.2803\n",
      "4   27.8197   36.2  8.3803\n",
      "5   24.4404   28.7  4.2596\n",
      "6   22.1836   22.9  0.7164\n",
      "7   19.7211   27.1  7.3789\n",
      "8   13.2276   16.5  3.2724\n",
      "9   19.3489   18.9  0.4489\n",
      "10  19.9426   15.0  4.9426\n",
      "11  21.1051   18.9  2.2051\n",
      "12  21.0929   21.7  0.6071\n",
      "13  19.5874   20.4  0.8126\n",
      "14  19.0829   18.2  0.8829\n",
      "15  19.2229   19.9  0.6771\n",
      "16  20.7889   23.1  2.3111\n",
      "17  17.3157   17.5  0.1843\n",
      "18  16.1816   20.2  4.0184\n",
      "19  17.8862   18.2  0.3138\n",
      "Overall abs average error: 3.17\n",
      "Results so far at epoch 60 on TEST:\n",
      "      PRED  TRUTH     AERR\n",
      "0  33.5628   46.7  13.1372\n",
      "1   5.4268   10.4   4.9732\n",
      "2  21.3233   15.6   5.7233\n",
      "3  18.3312   15.2   3.1312\n",
      "4   5.9205    5.0   0.9205\n",
      "5  11.8307   11.8   0.0307\n",
      "6  19.8577   23.1   3.2423\n",
      "7  22.6087   21.5   1.1087\n",
      "8  21.7414   24.3   2.5586\n",
      "9  23.0308   25.0   1.9692\n",
      "Overall abs average error: 3.68\n",
      "Epoch 61 done 96.1% - avg loss: 3.181\n",
      "Epoch 62 done 96.1% - avg loss: 3.175\n",
      "Epoch 63 done 96.1% - avg loss: 3.170\n",
      "Epoch 64 done 96.1% - avg loss: 3.166\n",
      "Epoch 65 done 96.1% - avg loss: 3.162\n",
      "Epoch 66 done 96.1% - avg loss: 3.158\n",
      "Epoch 67 done 96.1% - avg loss: 3.154\n",
      "Epoch 68 done 96.1% - avg loss: 3.151\n",
      "Epoch 69 done 96.1% - avg loss: 3.147\n",
      "Epoch 70 done 96.1% - avg loss: 3.145\n",
      "Epoch 71 done 96.1% - avg loss: 3.143\n",
      "Epoch 72 done 96.1% - avg loss: 3.141\n",
      "Epoch 73 done 96.1% - avg loss: 3.139\n",
      "Epoch 74 done 96.1% - avg loss: 3.137\n",
      "Epoch 75 done 96.1% - avg loss: 3.135\n",
      "Epoch 76 done 96.1% - avg loss: 3.133\n",
      "Epoch 77 done 96.1% - avg loss: 3.132\n",
      "Epoch 78 done 96.1% - avg loss: 3.130\n",
      "Epoch 79 done 96.1% - avg loss: 3.128\n",
      "Epoch 80 done 96.1% - avg loss: 3.128\n",
      "Results so far at epoch 80 on TRAIN:\n",
      "       PRED  TRUTH    AERR\n",
      "0   28.8478   24.0  4.8478\n",
      "1   23.9627   21.6  2.3627\n",
      "2   29.9874   34.7  4.7126\n",
      "3   28.4281   33.4  4.9719\n",
      "4   28.2858   36.2  7.9142\n",
      "5   24.4109   28.7  4.2891\n",
      "6   22.3110   22.9  0.5890\n",
      "7   20.0425   27.1  7.0575\n",
      "8   13.3742   16.5  3.1258\n",
      "9   19.3841   18.9  0.4841\n",
      "10  20.3564   15.0  5.3564\n",
      "11  21.1392   18.9  2.2392\n",
      "12  21.2144   21.7  0.4856\n",
      "13  19.2637   20.4  1.1363\n",
      "14  18.9211   18.2  0.7211\n",
      "15  18.8580   19.9  1.0420\n",
      "16  20.4263   23.1  2.6737\n",
      "17  17.2194   17.5  0.2806\n",
      "18  15.5734   20.2  4.6266\n",
      "19  17.6210   18.2  0.5790\n",
      "Overall abs average error: 3.11\n",
      "Results so far at epoch 80 on TEST:\n",
      "      PRED  TRUTH     AERR\n",
      "0  34.9018   46.7  11.7982\n",
      "1   4.8761   10.4   5.5239\n",
      "2  20.2121   15.6   4.6121\n",
      "3  19.0623   15.2   3.8623\n",
      "4   5.7369    5.0   0.7369\n",
      "5  11.9654   11.8   0.1654\n",
      "6  20.0308   23.1   3.0693\n",
      "7  22.5501   21.5   1.0501\n",
      "8  22.0364   24.3   2.2636\n",
      "9  23.3573   25.0   1.6427\n",
      "Overall abs average error: 3.47\n",
      "Epoch 81 done 96.1% - avg loss: 3.126\n",
      "Epoch 82 done 96.1% - avg loss: 3.125\n",
      "Epoch 83 done 96.1% - avg loss: 3.124\n",
      "Epoch 84 done 96.1% - avg loss: 3.123\n",
      "Epoch 85 done 96.1% - avg loss: 3.122\n",
      "Epoch 86 done 96.1% - avg loss: 3.121\n",
      "Epoch 87 done 96.1% - avg loss: 3.121\n",
      "Epoch 88 done 96.1% - avg loss: 3.120\n",
      "Epoch 89 done 96.1% - avg loss: 3.119\n",
      "Epoch 90 done 96.1% - avg loss: 3.118\n",
      "Epoch 91 done 96.1% - avg loss: 3.117\n",
      "Epoch 92 done 96.1% - avg loss: 3.116\n",
      "Epoch 93 done 96.1% - avg loss: 3.116\n",
      "Epoch 94 done 96.1% - avg loss: 3.115\n",
      "Epoch 95 done 96.1% - avg loss: 3.114\n",
      "Epoch 96 done 96.1% - avg loss: 3.114\n",
      "Epoch 97 done 96.1% - avg loss: 3.112\n",
      "Epoch 98 done 96.1% - avg loss: 3.112\n",
      "Epoch 99 done 96.1% - avg loss: 3.113\n",
      "Epoch 100 done 96.1% - avg loss: 3.111\n",
      "Results so far at epoch 100 on TRAIN:\n",
      "       PRED  TRUTH    AERR\n",
      "0   28.7938   24.0  4.7938\n",
      "1   23.9364   21.6  2.3364\n",
      "2   30.1032   34.7  4.5968\n",
      "3   28.4244   33.4  4.9756\n",
      "4   28.2973   36.2  7.9027\n",
      "5   24.2914   28.7  4.4086\n",
      "6   22.2380   22.9  0.6620\n",
      "7   19.9081   27.1  7.1919\n",
      "8   13.2071   16.5  3.2929\n",
      "9   19.1670   18.9  0.2670\n",
      "10  20.2255   15.0  5.2255\n",
      "11  20.9442   18.9  2.0442\n",
      "12  21.2468   21.7  0.4532\n",
      "13  19.0493   20.4  1.3507\n",
      "14  18.7035   18.2  0.5035\n",
      "15  18.6671   19.9  1.2329\n",
      "16  20.3201   23.1  2.7799\n",
      "17  17.0480   17.5  0.4520\n",
      "18  15.4983   20.2  4.7017\n",
      "19  17.4723   18.2  0.7277\n",
      "Overall abs average error: 3.09\n",
      "Results so far at epoch 100 on TEST:\n",
      "      PRED  TRUTH     AERR\n",
      "0  35.4869   46.7  11.2131\n",
      "1   4.8369   10.4   5.5631\n",
      "2  19.9450   15.6   4.3450\n",
      "3  19.2241   15.2   4.0241\n",
      "4   5.5579    5.0   0.5579\n",
      "5  12.1451   11.8   0.3451\n",
      "6  20.1258   23.1   2.9742\n",
      "7  22.5255   21.5   1.0255\n",
      "8  22.2048   24.3   2.0952\n",
      "9  23.5340   25.0   1.4660\n",
      "Overall abs average error: 3.36\n",
      "Results so far at epoch 100 on TRAIN:\n",
      "       PRED  TRUTH    AERR\n",
      "0   28.7938   24.0  4.7938\n",
      "1   23.9364   21.6  2.3364\n",
      "2   30.1032   34.7  4.5968\n",
      "3   28.4244   33.4  4.9756\n",
      "4   28.2973   36.2  7.9027\n",
      "5   24.2914   28.7  4.4086\n",
      "6   22.2380   22.9  0.6620\n",
      "7   19.9081   27.1  7.1919\n",
      "8   13.2071   16.5  3.2929\n",
      "9   19.1670   18.9  0.2670\n",
      "10  20.2255   15.0  5.2255\n",
      "11  20.9442   18.9  2.0442\n",
      "12  21.2468   21.7  0.4532\n",
      "13  19.0493   20.4  1.3507\n",
      "14  18.7035   18.2  0.5035\n",
      "15  18.6671   19.9  1.2329\n",
      "16  20.3201   23.1  2.7799\n",
      "17  17.0480   17.5  0.4520\n",
      "18  15.4983   20.2  4.7017\n",
      "19  17.4723   18.2  0.7277\n",
      "Overall abs average error: 3.09\n",
      "Results so far at epoch 100 on TEST:\n",
      "      PRED  TRUTH     AERR\n",
      "0  35.4869   46.7  11.2131\n",
      "1   4.8369   10.4   5.5631\n",
      "2  19.9450   15.6   4.3450\n",
      "3  19.2241   15.2   4.0241\n",
      "4   5.5579    5.0   0.5579\n",
      "5  12.1451   11.8   0.3451\n",
      "6  20.1258   23.1   2.9742\n",
      "7  22.5255   21.5   1.0255\n",
      "8  22.2048   24.3   2.0952\n",
      "9  23.5340   25.0   1.4660\n",
      "Overall abs average error: 3.36\n"
     ]
    }
   ],
   "source": [
    "tf_input = tf.keras.layers.Input((13,))\n",
    "lin_func = tf.keras.layers.Dense(1)\n",
    "tf_out = lin_func(tf_input)\n",
    "model = tf.keras.models.Model(tf_input, tf_out)\n",
    "\n",
    "\n",
    "grad_prc = 0.01\n",
    "nr_epochs = 100\n",
    "y_train_hat = model.predict(X_train)\n",
    "res = show_results(y_train_hat, y_train, label='RANDOM MODEL ON TRAIN')    \n",
    "\n",
    "y_test_hat = model.predict(X_test)\n",
    "res = show_results(y_test_hat, y_test, label='RANDOM MODEL ON TEST')    \n",
    "\n",
    "optimizer = tf.keras.optimizers.Adam(lr=grad_prc)\n",
    "\n",
    "epoch_len = _X.shape[0] // batch_size + 1\n",
    "\n",
    "for epoch in range(1, nr_epochs + 1):\n",
    "    epoch_losses = []\n",
    "    for i, batch_data in enumerate(ds):\n",
    "        with tf.GradientTape() as tape:\n",
    "            tf_x_batch, tf_y_batch = batch_data\n",
    "            tf_preds = model(tf_x_batch)\n",
    "            tf_residual = tf_y_batch - tf_preds\n",
    "            tf_batch_error = tf.abs(tf_residual)\n",
    "            tf_error = tf.reduce_mean(tf_batch_error)\n",
    "        epoch_losses.append(tf_error.numpy())\n",
    "        print(\"\\rEpoch {} done {:.1f}% - avg loss: {:.3f}\".format(epoch, i/epoch_len * 100, np.mean(epoch_losses)),\n",
    "             end='', flush=True)\n",
    "        grads = tape.gradient(tf_error, model.trainable_weights) # lin_func.variables)\n",
    "        #lin_func.variables[0].assign_sub(grad_prc * grads[0]) # a = a - grad_prc * grad_a, b = b - grad_prc * grad_b ...\n",
    "        #lin_func.variables[1].assign_sub(grad_prc * grads[1]) # bias = bias - grad_prc * grad_bias\n",
    "        optimizer.apply_gradients(zip(grads, model.trainable_weights))\n",
    "    print(\"\")\n",
    "    if (epoch % 20) == 0:      \n",
    "        pass\n",
    "        y_train_hat = model.predict(X_train)\n",
    "        res = show_results(y_train_hat, y_train, label='at epoch {} on TRAIN'.format(epoch))    \n",
    "\n",
    "        y_test_hat = model.predict(X_test)\n",
    "        res = show_results(y_test_hat, y_test, label='at epoch {} on TEST'.format(epoch))    \n",
    "\n",
    "y_train_hat = model.predict(X_train)\n",
    "res = show_results(y_train_hat, y_train, label='at epoch {} on TRAIN'.format(epoch))    \n",
    "\n",
    "y_test_hat = model.predict(X_test)\n",
    "res = show_results(y_test_hat, y_test, label='at epoch {} on TEST'.format(epoch))    \n",
    "\n",
    "    "
   ]
  },
  {
   "cell_type": "markdown",
   "metadata": {},
   "source": [
    "coefs = np.linalg.pinv(X.T.dot(X) + 0.1 * np.eye(X.shape[1])).dot(X.T).dot(y)"
   ]
  },
  {
   "cell_type": "code",
   "execution_count": 34,
   "metadata": {},
   "outputs": [],
   "source": [
    "y_trn = y_train #(y_train -y_train.mean()) / y_train.std()\n",
    "x_trn = np.hstack((X_train, np.ones((X_train.shape[0],1)))) # add bias term column\n",
    "regularization = 0.0\n",
    "coefs = np.linalg.inv(x_trn.T.dot(x_trn) + regularization * np.eye(x_trn.shape[1])).dot(x_trn.T).dot(y_trn.ravel())"
   ]
  },
  {
   "cell_type": "code",
   "execution_count": 35,
   "metadata": {},
   "outputs": [],
   "source": [
    "preds = x_trn.dot(coefs)"
   ]
  },
  {
   "cell_type": "code",
   "execution_count": 36,
   "metadata": {},
   "outputs": [
    {
     "data": {
      "text/plain": [
       "array([30.  , 25.06, 30.49, 28.5 , 27.86, 25.24, 23.07, 19.71, 11.73,\n",
       "       19.1 ])"
      ]
     },
     "execution_count": 36,
     "metadata": {},
     "output_type": "execute_result"
    }
   ],
   "source": [
    "preds[:10]"
   ]
  },
  {
   "cell_type": "code",
   "execution_count": 37,
   "metadata": {},
   "outputs": [
    {
     "data": {
      "text/plain": [
       "array([24. , 21.6, 34.7, 33.4, 36.2, 28.7, 22.9, 27.1, 16.5, 18.9],\n",
       "      dtype=float32)"
      ]
     },
     "execution_count": 37,
     "metadata": {},
     "output_type": "execute_result"
    }
   ],
   "source": [
    "y_trn.ravel()[:10]"
   ]
  },
  {
   "cell_type": "code",
   "execution_count": 38,
   "metadata": {},
   "outputs": [
    {
     "data": {
      "text/plain": [
       "(array([-0.93,  1.12,  0.16,  0.75, -2.02,  2.63,  0.13, -3.02,  2.63,\n",
       "        -2.07, -2.07,  0.84, -3.76]),\n",
       " 22.530558984030204)"
      ]
     },
     "execution_count": 38,
     "metadata": {},
     "output_type": "execute_result"
    }
   ],
   "source": [
    "coefs[:-1], coefs[-1]"
   ]
  },
  {
   "cell_type": "code",
   "execution_count": 39,
   "metadata": {},
   "outputs": [
    {
     "data": {
      "text/plain": [
       "(array([-1.16,  0.74, -0.02,  0.46, -0.9 ,  3.83, -0.68, -1.98,  0.88,\n",
       "        -1.  , -1.65,  1.04, -2.26], dtype=float32),\n",
       " array([21.58], dtype=float32))"
      ]
     },
     "execution_count": 39,
     "metadata": {},
     "output_type": "execute_result"
    }
   ],
   "source": [
    "lin_func.variables[0].numpy().ravel(), lin_func.variables[1].numpy()"
   ]
  },
  {
   "cell_type": "code",
   "execution_count": 40,
   "metadata": {},
   "outputs": [
    {
     "name": "stdout",
     "output_type": "stream",
     "text": [
      "  CRIM       -0.93\n",
      "  ZN         1.12\n",
      "  INDUS      0.16\n",
      "  CHAS       0.75\n",
      "  NOX        -2.02\n",
      "  RM         2.63\n",
      "  AGE        0.13\n",
      "  DIS        -3.02\n",
      "  RAD        2.63\n",
      "  TAX        -2.07\n",
      "  PTRATIO    -2.07\n",
      "  B          0.84\n",
      "  LSTAT      -3.76\n"
     ]
    }
   ],
   "source": [
    "for i,feat in enumerate(boston_data.feature_names):\n",
    "    print('  {:<10} {:.2f}'.format(feat, coefs[i]))"
   ]
  },
  {
   "cell_type": "code",
   "execution_count": 41,
   "metadata": {},
   "outputs": [
    {
     "data": {
      "text/plain": [
       "Text(0.5, 1.0, 'Normal equation')"
      ]
     },
     "execution_count": 41,
     "metadata": {},
     "output_type": "execute_result"
    },
    {
     "data": {
      "image/png": "[encoded data removed]",
      "text/plain": [
       "<Figure size 720x720 with 1 Axes>"
      ]
     },
     "metadata": {},
     "output_type": "display_data"
    }
   ],
   "source": [
    "feats = coefs[:-1]\n",
    "plt.figure(figsize=(10,10))\n",
    "plt.bar(np.arange(feats.shape[0]), feats, tick_label=boston_data.feature_names)\n",
    "plt.title(\"Normal equation\")"
   ]
  },
  {
   "cell_type": "code",
   "execution_count": 42,
   "metadata": {},
   "outputs": [
    {
     "data": {
      "text/plain": [
       "Text(0.5, 1.0, 'Linear model')"
      ]
     },
     "execution_count": 42,
     "metadata": {},
     "output_type": "execute_result"
    },
    {
     "data": {
      "image/png": "[encoded data removed]",
      "text/plain": [
       "<Figure size 720x720 with 1 Axes>"
      ]
     },
     "metadata": {},
     "output_type": "display_data"
    }
   ],
   "source": [
    "feats = lin_func.variables[0].numpy().ravel()\n",
    "plt.figure(figsize=(10,10))\n",
    "plt.bar(np.arange(feats.shape[0]), feats, tick_label=boston_data.feature_names)\n",
    "plt.title(\"Linear model\")"
   ]
  }
 ],
 "metadata": {
  "kernelspec": {
   "display_name": "Python 3",
   "language": "python",
   "name": "python3"
  },
  "language_info": {
   "codemirror_mode": {
    "name": "ipython",
    "version": 3
   },
   "file_extension": ".py",
   "mimetype": "text/x-python",
   "name": "python",
   "nbconvert_exporter": "python",
   "pygments_lexer": "ipython3",
   "version": "3.7.4"
  }
 },
 "nbformat": 4,
 "nbformat_minor": 4
}
